{
  "nbformat": 4,
  "nbformat_minor": 0,
  "metadata": {
    "colab": {
      "provenance": [],
      "authorship_tag": "ABX9TyP0R6lkFEB19OTwxx8yp+M3",
      "include_colab_link": true
    },
    "kernelspec": {
      "name": "python3",
      "display_name": "Python 3"
    },
    "language_info": {
      "name": "python"
    }
  },
  "cells": [
    {
      "cell_type": "markdown",
      "metadata": {
        "id": "view-in-github",
        "colab_type": "text"
      },
      "source": [
        "<a href=\"https://colab.research.google.com/github/AryasutaBaswara/LAB-Scientific-Computing/blob/main/2702263680_Aryasuta_Baswara_Integrations.ipynb\" target=\"_parent\"><img src=\"https://colab.research.google.com/assets/colab-badge.svg\" alt=\"Open In Colab\"/></a>"
      ]
    },
    {
      "cell_type": "code",
      "execution_count": 4,
      "metadata": {
        "colab": {
          "base_uri": "https://localhost:8080/"
        },
        "id": "cbmM-pdXyE4D",
        "outputId": "3c172dc4-b49c-4a13-c1b9-22ad3250ec23"
      },
      "outputs": [
        {
          "output_type": "stream",
          "name": "stdout",
          "text": [
            "1.9835235375094546\n",
            "0.01647646249054535\n",
            "1.9835235375094546\n",
            "0.01647646249054535\n",
            "2.0082484079079745\n",
            "-0.008248407907974542\n"
          ]
        }
      ],
      "source": [
        "import numpy as np\n",
        "\n",
        "a = 0\n",
        "b = np.pi\n",
        "n = 11\n",
        "h = (b - a) / (n - 1)\n",
        "x = np.linspace(a, b, n)\n",
        "f = np.sin(x)\n",
        "\n",
        "I_riemannL = h * sum(f[:n-1])\n",
        "err_riemannL = 2 - I_riemannL\n",
        "\n",
        "I_riemannR = h * sum(f[1::])\n",
        "err_riemannR = 2 - I_riemannR\n",
        "\n",
        "I_mid = h * sum(np.sin((x[:n-1] \\\n",
        "                        + x[1:])/2))\n",
        "err_mid = 2 - I_mid\n",
        "\n",
        "print(I_riemannL)\n",
        "print(err_riemannL)\n",
        "\n",
        "print(I_riemannR)\n",
        "print(err_riemannR)\n",
        "\n",
        "print(I_mid)\n",
        "print(err_mid)"
      ]
    },
    {
      "cell_type": "code",
      "source": [
        "import numpy as np\n",
        "\n",
        "a = 0\n",
        "b = np.pi\n",
        "n = 11\n",
        "h = (b - a) / (n - 1)\n",
        "x = np.linspace(a, b, n)\n",
        "f = np.sin(x)\n",
        "\n",
        "I_trap = (h/2) * (f[0] + \\\n",
        "                  2 * sum(f[1:n-1]) + f[n-1])\n",
        "err_trap = 2 - I_trap\n",
        "\n",
        "print(I_trap)\n",
        "print(err_trap)"
      ],
      "metadata": {
        "colab": {
          "base_uri": "https://localhost:8080/"
        },
        "id": "U6FEsAM_zeYW",
        "outputId": "cde32c19-e08e-454a-94f0-6e6e96129a52"
      },
      "execution_count": 3,
      "outputs": [
        {
          "output_type": "stream",
          "name": "stdout",
          "text": [
            "1.9835235375094546\n",
            "0.01647646249054535\n"
          ]
        }
      ]
    },
    {
      "cell_type": "code",
      "source": [
        "import numpy as np\n",
        "from scipy.integrate import trapz\n",
        "\n",
        "a = 0\n",
        "b = np.pi\n",
        "n = 11\n",
        "h = (b - a) / (n - 1)\n",
        "x = np.linspace(a, b, n)\n",
        "f = np.sin(x)\n",
        "\n",
        "I_trapz = trapz(f,x)\n",
        "I_trap = (h/2) * (f[0] + 2 * sum(f[1:n-1]) + f[n-1])\n",
        "\n",
        "print(I_trapz)\n",
        "print(I_trap)"
      ],
      "metadata": {
        "colab": {
          "base_uri": "https://localhost:8080/"
        },
        "id": "21L83LLQ1P5S",
        "outputId": "2b7cd467-2bc8-48f6-e4d8-c9661d50106f"
      },
      "execution_count": 5,
      "outputs": [
        {
          "output_type": "stream",
          "name": "stdout",
          "text": [
            "1.9835235375094544\n",
            "1.9835235375094546\n"
          ]
        }
      ]
    },
    {
      "cell_type": "code",
      "source": [
        "from scipy.integrate import quad\n",
        "\n",
        "I_quad, est_err_quad = \\\n",
        "quad(np.sin, 0, np.pi)\n",
        "print(I_quad)\n",
        "err_quad = 2 - I_quad\n",
        "print(est_err_quad, err_quad)\n"
      ],
      "metadata": {
        "colab": {
          "base_uri": "https://localhost:8080/"
        },
        "id": "3Tj_S1PZ2WIG",
        "outputId": "ea5a472f-c3c8-485b-e974-fc79aafc085f"
      },
      "execution_count": 7,
      "outputs": [
        {
          "output_type": "stream",
          "name": "stdout",
          "text": [
            "2.0\n",
            "2.220446049250313e-14 0.0\n"
          ]
        }
      ]
    },
    {
      "cell_type": "code",
      "source": [],
      "metadata": {
        "id": "uWLOcSD23TcU"
      },
      "execution_count": null,
      "outputs": []
    },
    {
      "cell_type": "markdown",
      "source": [
        "QUIZ Integrations"
      ],
      "metadata": {
        "id": "JfnrlGLGCaos"
      }
    },
    {
      "cell_type": "code",
      "source": [
        "import numpy as np\n",
        "from scipy.integrate import trapz\n",
        "\n",
        "# Function to compute integral using composite trapezoidal rule\n",
        "def composite_trapezoidal_rule(f, a, b, n):\n",
        "    x = np.linspace(a, b, n + 1)  # n panels means n+1 points\n",
        "    h = (b - a) / n\n",
        "    y = f(x)\n",
        "    I_trap = (h / 2) * (y[0] + 2 * np.sum(y[1:n]) + y[n])\n",
        "    return I_trap\n",
        "\n",
        "# Define the function\n",
        "f = np.sin\n",
        "\n",
        "# Define the integration limits\n",
        "a = 0\n",
        "b = np.pi\n",
        "\n",
        "# Number of panels\n",
        "n1 = 8\n",
        "n2 = 16\n",
        "\n",
        "# Compute the integral using composite trapezoidal rule\n",
        "I_trap_8_panels = composite_trapezoidal_rule(f, a, b, n1)\n",
        "I_trap_16_panels = composite_trapezoidal_rule(f, a, b, n2)\n",
        "\n",
        "print(\"Integral with 8 panels: \", I_trap_8_panels)\n",
        "print(\"Integral with 16 panels: \", I_trap_16_panels)\n",
        "\n",
        "# For comparison, using scipy's trapz function for 11 points (same as the original example)\n",
        "x_11 = np.linspace(a, b, 11)\n",
        "f_11 = np.sin(x_11)\n",
        "I_trapz_11 = trapz(f_11, x_11)\n",
        "print(\"Integral using scipy's trapz function with 11 points: \", I_trapz_11)\n",
        "\n",
        "# Also compare with the exact integral\n",
        "exact_integral = -np.cos(b) + np.cos(a)\n",
        "print(\"Exact integral: \", exact_integral)\n"
      ],
      "metadata": {
        "colab": {
          "base_uri": "https://localhost:8080/"
        },
        "id": "jWK5gD3RCq8C",
        "outputId": "6346e55c-f1aa-4e0f-9e6e-a76f408da94b"
      },
      "execution_count": 1,
      "outputs": [
        {
          "output_type": "stream",
          "name": "stdout",
          "text": [
            "Integral with 8 panels:  1.9742316019455508\n",
            "Integral with 16 panels:  1.9935703437723395\n",
            "Integral using scipy's trapz function with 11 points:  1.9835235375094544\n",
            "Exact integral:  2.0\n"
          ]
        }
      ]
    }
  ]
}