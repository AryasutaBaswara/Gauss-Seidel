{
  "nbformat": 4,
  "nbformat_minor": 0,
  "metadata": {
    "colab": {
      "provenance": [],
      "authorship_tag": "ABX9TyMh4dXaj7mtB/fnONEI6CC+",
      "include_colab_link": true
    },
    "kernelspec": {
      "name": "python3",
      "display_name": "Python 3"
    },
    "language_info": {
      "name": "python"
    }
  },
  "cells": [
    {
      "cell_type": "markdown",
      "metadata": {
        "id": "view-in-github",
        "colab_type": "text"
      },
      "source": [
        "<a href=\"https://colab.research.google.com/github/AryasutaBaswara/LAB-Scientific-Computing-Sesi-2-/blob/main/2702263680_Aryasuta_Baswara_Gauss_Seidel.ipynb\" target=\"_parent\"><img src=\"https://colab.research.google.com/assets/colab-badge.svg\" alt=\"Open In Colab\"/></a>"
      ]
    },
    {
      "cell_type": "code",
      "execution_count": null,
      "metadata": {
        "colab": {
          "base_uri": "https://localhost:8080/"
        },
        "id": "eNyDPeEkI64d",
        "outputId": "539e0357-ef86-4e70-d213-36cc682dfff3"
      },
      "outputs": [
        {
          "output_type": "stream",
          "name": "stdout",
          "text": [
            "matrix is diagonally dominant\n"
          ]
        }
      ],
      "source": [
        "import numpy as np\n",
        "a = [[8,3,-3], [-2, -8, 5], [3, 5, 10]]\n",
        "\n",
        "#find diagonal coefficients\n",
        "diag = np.diag(np.abs(a))\n",
        "\n",
        "#find row sum without diagonal\n",
        "off_diag = np.sum(np.abs(a), axis = 1) - diag\n",
        "\n",
        "if np.all(diag > off_diag):\n",
        "    print('matrix is diagonally dominant')\n",
        "else:\n",
        "    print('NOT diagonally dominant')"
      ]
    },
    {
      "cell_type": "code",
      "source": [
        "import numpy as np"
      ],
      "metadata": {
        "id": "h6Qw23qUJMSJ"
      },
      "execution_count": null,
      "outputs": []
    },
    {
      "cell_type": "code",
      "source": [
        "a = [[8,3,-3], [-2, -8, 5], [3, 5, 10]]"
      ],
      "metadata": {
        "id": "DECq2q36KaYJ"
      },
      "execution_count": null,
      "outputs": []
    },
    {
      "cell_type": "code",
      "source": [
        "#find diagonal coefficients\n",
        "diag = np.diag(np.abs(a))"
      ],
      "metadata": {
        "id": "qAJqnxybKdXp"
      },
      "execution_count": null,
      "outputs": []
    },
    {
      "cell_type": "code",
      "source": [
        "#find row sum without diagonal\n",
        "off_diag = np.sum(np.abs(a), axis = 1) - diag"
      ],
      "metadata": {
        "id": "2kq-zyy5KfQx"
      },
      "execution_count": null,
      "outputs": []
    },
    {
      "cell_type": "code",
      "source": [
        "if np.all(diag > off_diag):\n",
        "    print('matrix is diagonally dominant')\n",
        "else:\n",
        "    print('NOT diagonally dominant')"
      ],
      "metadata": {
        "colab": {
          "base_uri": "https://localhost:8080/"
        },
        "id": "lmeIIzDwKhnE",
        "outputId": "f46342cb-ffb6-4a03-9d88-a611f97c45f6"
      },
      "execution_count": null,
      "outputs": [
        {
          "output_type": "stream",
          "name": "stdout",
          "text": [
            "matrix is diagonally dominant\n"
          ]
        }
      ]
    },
    {
      "cell_type": "code",
      "source": [
        "x1 = 0"
      ],
      "metadata": {
        "id": "7KaZzbCmKnrn"
      },
      "execution_count": null,
      "outputs": []
    },
    {
      "cell_type": "code",
      "source": [
        "x2 = 0"
      ],
      "metadata": {
        "id": "9CAYiICgKvz3"
      },
      "execution_count": null,
      "outputs": []
    },
    {
      "cell_type": "code",
      "source": [
        "x3 = 0"
      ],
      "metadata": {
        "id": "psnulZyQKwze"
      },
      "execution_count": null,
      "outputs": []
    },
    {
      "cell_type": "code",
      "source": [
        "epsilon = 0.01"
      ],
      "metadata": {
        "id": "iX5dno68KyL9"
      },
      "execution_count": null,
      "outputs": []
    },
    {
      "cell_type": "code",
      "source": [
        "converged = False"
      ],
      "metadata": {
        "id": "-b9WDuiDK2D9"
      },
      "execution_count": null,
      "outputs": []
    },
    {
      "cell_type": "code",
      "source": [
        "x_old = np.array([x1, x2, x3])"
      ],
      "metadata": {
        "id": "JSjSx8ISK5-V"
      },
      "execution_count": null,
      "outputs": []
    },
    {
      "cell_type": "code",
      "source": [
        "print('Iteration result')\n",
        "print(' k,    x1,    x2,    x3 ')"
      ],
      "metadata": {
        "colab": {
          "base_uri": "https://localhost:8080/"
        },
        "id": "u4-g7d-WLArP",
        "outputId": "063c915a-a915-4cbf-8aaa-3190ed458b99"
      },
      "execution_count": null,
      "outputs": [
        {
          "output_type": "stream",
          "name": "stdout",
          "text": [
            "Iteration result\n",
            " k,    x1,    x2,    x3 \n"
          ]
        }
      ]
    },
    {
      "cell_type": "code",
      "source": [
        "for k in range(1,50):\n",
        "    x1 = (14-3*x2+3*x3)/8\n",
        "    x2 = (5+2*x1-5*x3)/(-3)\n",
        "    x3 = (-8-3*x1-5*x2)/(10)\n",
        "    x = np.array([x1, x2, x3])\n",
        "    #check if it is smaller than threshold\n",
        "    dx = np.sqrt(np.dot(x-x_old, x-x_old))\n",
        "\n",
        "    print(\"%d, %.4f, %.4f, %.4f\"%(k, x1, x2, x3))\n",
        "    if dx < epsilon:\n",
        "        converged = True\n",
        "        print('COnverged!')\n",
        "        break\n",
        "\n",
        "    #assign the latest x value to the old value\n",
        "    x_old = x"
      ],
      "metadata": {
        "colab": {
          "base_uri": "https://localhost:8080/"
        },
        "id": "ftn3KJU8L2dn",
        "outputId": "dcc9845c-4af6-4e67-e675-06d2c40867cf"
      },
      "execution_count": null,
      "outputs": [
        {
          "output_type": "stream",
          "name": "stdout",
          "text": [
            "1, 1.7500, -2.8333, 0.0917\n",
            "2, 2.8469, -3.4118, 0.0518\n",
            "3, 3.0489, -3.6128, 0.0918\n",
            "4, 3.1392, -3.6065, 0.0615\n",
            "5, 3.1255, -3.6478, 0.0863\n",
            "6, 3.1503, -3.6231, 0.0665\n",
            "7, 3.1336, -3.6450, 0.0824\n",
            "8, 3.1478, -3.6278, 0.0696\n",
            "9, 3.1365, -3.6417, 0.0799\n",
            "10, 3.1456, -3.6306, 0.0716\n",
            "11, 3.1383, -3.6395, 0.0783\n",
            "12, 3.1442, -3.6323, 0.0729\n",
            "13, 3.1395, -3.6381, 0.0772\n",
            "COnverged!\n"
          ]
        }
      ]
    },
    {
      "cell_type": "code",
      "source": [
        "if not converged:\n",
        "    print('Not converge, increase the # of iterations')"
      ],
      "metadata": {
        "id": "P6RNsWlxNMtm"
      },
      "execution_count": null,
      "outputs": []
    },
    {
      "cell_type": "code",
      "source": [
        "print('Iteration result')\n",
        "print(' k,    x1,    x2,    x3 ')\n",
        "for k in range(1,50):\n",
        "    x1 = (14-3*x2+3*x3)/8\n",
        "    x2 = (5+2*x1-5*x3)/(-3)\n",
        "    x3 = (-8-3*x1-5*x2)/(10)\n",
        "    x = np.array([x1, x2, x3])\n",
        "    #check if it is smaller than threshold\n",
        "    dx = np.sqrt(np.dot(x-x_old, x-x_old))\n",
        "\n",
        "    print(\"%d, %.4f, %.4f, %.4f\"%(k, x1, x2, x3))\n",
        "    if dx < epsilon:\n",
        "        converged = True\n",
        "        print('Converged!')\n",
        "        break\n",
        "\n",
        "    #assign the latest x value to the old value\n",
        "    x_old = x\n",
        "\n",
        "if not converged:\n",
        "    print('Not converge, increase the # of iterations')\n"
      ],
      "metadata": {
        "colab": {
          "base_uri": "https://localhost:8080/"
        },
        "id": "VOk6m1isNeW9",
        "outputId": "5a941b15-8bae-42f1-aa17-9f0c20964e78"
      },
      "execution_count": null,
      "outputs": [
        {
          "output_type": "stream",
          "name": "stdout",
          "text": [
            "Iteration result\n",
            " k,    x1,    x2,    x3 \n",
            "1, 3.1433, -3.6335, 0.0738\n",
            "Converged!\n"
          ]
        }
      ]
    },
    {
      "cell_type": "code",
      "source": [
        "import numpy as np\n",
        "a = [[8, 3, -3], [-2, -8, 5], [3, 5, 10]]\n",
        "\n",
        "#find diagonal coefficients\n",
        "diag = np.diag(np.abs(a))\n",
        "\n",
        "#find row sum without diagonal\n",
        "off_diag = np.sum(np.abs(a), axis = 1) - diag\n",
        "\n",
        "if np.all(diag > off_diag):\n",
        "    print('matrix is diagonally dominant')\n",
        "else:\n",
        "    print('NOT diagonally dominant')\n",
        "\n",
        "\n",
        "x1 = 0\n",
        "x2 = 0\n",
        "x3 = 0\n",
        "epsilon = 0.01\n",
        "converged = False\n",
        "\n",
        "x_old = np.array([x1,x2,x3])\n",
        "\n",
        "print('Iteration result')\n",
        "print(' k,    x1,    x2,    x3 ')\n",
        "for k in range(1,50):\n",
        "    x1 = (14-3*x2+3*x3)/8\n",
        "    x2 = (5+2*x1-5*x3)/(-8)\n",
        "    x3 = (-8-3*x1-5*x2)/(10)\n",
        "    x = np.array([x1, x2, x3])\n",
        "    #check if it is smaller than threshold\n",
        "    dx = np.sqrt(np.dot(x-x_old, x-x_old))\n",
        "\n",
        "    print(\"%d, %.4f, %.4f, %.4f\"%(k, x1, x2, x3))\n",
        "    if dx < epsilon:\n",
        "        converged = True\n",
        "        print('Converged!')\n",
        "        break\n",
        "\n",
        "    #assign the latest x value to the old value\n",
        "    x_old = x\n",
        "\n",
        "if not converged:\n",
        "    print('Not converge, increase the # of iterations')\n"
      ],
      "metadata": {
        "colab": {
          "base_uri": "https://localhost:8080/"
        },
        "id": "E3-ZN0drPCd5",
        "outputId": "2ff7a4f3-0c19-4a6d-b5fa-ac34b2f666fb"
      },
      "execution_count": null,
      "outputs": [
        {
          "output_type": "stream",
          "name": "stdout",
          "text": [
            "matrix is diagonally dominant\n",
            "Iteration result\n",
            " k,    x1,    x2,    x3 \n",
            "1, 1.7500, -1.0625, -0.7937\n",
            "2, 1.8508, -1.5838, -0.5633\n",
            "3, 2.1327, -1.5103, -0.6847\n",
            "4, 2.0596, -1.5678, -0.6340\n",
            "5, 2.1002, -1.5463, -0.6569\n",
            "6, 2.0835, -1.5565, -0.6468\n",
            "7, 2.0911, -1.5520, -0.6513\n",
            "Converged!\n"
          ]
        }
      ]
    },
    {
      "cell_type": "code",
      "source": [],
      "metadata": {
        "id": "mY-iJyJbR7W6"
      },
      "execution_count": null,
      "outputs": []
    }
  ]
}